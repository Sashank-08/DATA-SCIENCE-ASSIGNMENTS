{
  "nbformat": 4,
  "nbformat_minor": 0,
  "metadata": {
    "colab": {
      "provenance": [],
      "authorship_tag": "ABX9TyMDRKpEpj7C+upEvncXsIPT",
      "include_colab_link": true
    },
    "kernelspec": {
      "name": "python3",
      "display_name": "Python 3"
    },
    "language_info": {
      "name": "python"
    }
  },
  "cells": [
    {
      "cell_type": "markdown",
      "metadata": {
        "id": "view-in-github",
        "colab_type": "text"
      },
      "source": [
        "<a href=\"https://colab.research.google.com/github/Sashank-08/DATA-SCIENCE-ASSIGNMENTS/blob/main/Basic_stats_2.ipynb\" target=\"_parent\"><img src=\"https://colab.research.google.com/assets/colab-badge.svg\" alt=\"Open In Colab\"/></a>"
      ]
    },
    {
      "cell_type": "code",
      "execution_count": 1,
      "metadata": {
        "id": "Fz8pPI83DQUe",
        "colab": {
          "base_uri": "https://localhost:8080/"
        },
        "outputId": "b5df0f8f-ac80-4778-ecb3-43e4981d5f76"
      },
      "outputs": [
        {
          "output_type": "stream",
          "name": "stdout",
          "text": [
            "99% Confidence Interval Using Sample Standard Deviation: (1.090197338451367, 1.3871359948819662)\n",
            "99% Confidence Interval Using Known Population Standard Deviation: (1.1056514133957607, 1.3716819199375725)\n"
          ]
        }
      ],
      "source": [
        "from scipy import stats\n",
        "import numpy as np\n",
        "from scipy.stats import t, norm\n",
        "data=[1.13,1.55,1.43,0.92,1.25,1.36,1.32,0.85,1.07,1.48,1.20,1.33,1.18,1.22,1.29]\n",
        "n = len(data)\n",
        "\n",
        "# Sample mean\n",
        "sample_mean = np.mean(data)\n",
        "\n",
        "# Sample standard deviation\n",
        "sample_std = np.std(data, ddof=1)\n",
        "\n",
        "# Degrees of freedom\n",
        "df = n - 1\n",
        "\n",
        "# A. 99% confidence interval using t-distribution\n",
        "confidence_level = 0.99\n",
        "alpha = 1 - confidence_level\n",
        "\n",
        "sample_std = np.std(data, ddof=1)\n",
        "t_critical = t.ppf(1 - alpha / 2, df)\n",
        "margin_of_error_t = t_critical * (sample_std / np.sqrt(n))\n",
        "\n",
        "t_critical = t.ppf(1 - alpha / 2, df)\n",
        "\n",
        "# Margin of error\n",
        "margin_of_error_t = t_critical * (sample_std / np.sqrt(n))\n",
        "\n",
        "# Confidence interval\n",
        "confidence_interval_t = (sample_mean - margin_of_error_t, sample_mean + margin_of_error_t)\n",
        "\n",
        "# B. 99% Confidence Interval Using Known Population Standard Deviation\n",
        "population_std = 0.2\n",
        "\n",
        "# Critical value from z-distribution for 99% confidence interval\n",
        "z_critical = norm.ppf(1 - alpha / 2)\n",
        "\n",
        "# Margin of error\n",
        "margin_of_error_z = z_critical * (population_std / np.sqrt(n))\n",
        "\n",
        "# Confidence interval\n",
        "confidence_interval_z = (sample_mean - margin_of_error_z, sample_mean + margin_of_error_z)\n",
        "print(\"99% Confidence Interval Using Sample Standard Deviation:\",confidence_interval_t)\n",
        "print(\"99% Confidence Interval Using Known Population Standard Deviation:\",confidence_interval_z)\n"
      ]
    },
    {
      "cell_type": "code",
      "source": [],
      "metadata": {
        "id": "29fHYg3Kutm1"
      },
      "execution_count": null,
      "outputs": []
    }
  ]
}