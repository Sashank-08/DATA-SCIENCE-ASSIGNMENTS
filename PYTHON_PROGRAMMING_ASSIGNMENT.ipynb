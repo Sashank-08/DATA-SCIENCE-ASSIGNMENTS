{
  "nbformat": 4,
  "nbformat_minor": 0,
  "metadata": {
    "colab": {
      "provenance": [],
      "authorship_tag": "ABX9TyPwr34EWp8hPAiu9M8Htef0",
      "include_colab_link": true
    },
    "kernelspec": {
      "name": "python3",
      "display_name": "Python 3"
    },
    "language_info": {
      "name": "python"
    }
  },
  "cells": [
    {
      "cell_type": "markdown",
      "metadata": {
        "id": "view-in-github",
        "colab_type": "text"
      },
      "source": [
        "<a href=\"https://colab.research.google.com/github/Sashank-08/DATA-SCIENCE-ASSIGNMENTS/blob/main/PYTHON_PROGRAMMING_ASSIGNMENT.ipynb\" target=\"_parent\"><img src=\"https://colab.research.google.com/assets/colab-badge.svg\" alt=\"Open In Colab\"/></a>"
      ]
    },
    {
      "cell_type": "code",
      "execution_count": null,
      "metadata": {
        "colab": {
          "base_uri": "https://localhost:8080/"
        },
        "id": "mxa9lOqYEsvd",
        "outputId": "9a16c532-1d2d-41d0-c59a-8a100a5f73fe"
      },
      "outputs": [
        {
          "output_type": "stream",
          "name": "stdout",
          "text": [
            "Enter a value:113\n",
            "Given value is a Prime Number\n"
          ]
        }
      ],
      "source": [
        "#Exercise 1: Prime Numbers\n",
        "\n",
        "n =int(input(\"Enter a value:\"))\n",
        "flag = 0\n",
        "for i in range(2,n):\n",
        "  if n%i==0:\n",
        "    flag = 1\n",
        "    break\n",
        "if flag == 1:\n",
        "  print('Given value is Not a Prime Number')\n",
        "else:\n",
        "  print(\"Given value is a Prime Number\")"
      ]
    },
    {
      "cell_type": "code",
      "source": [
        "#Exercise 2:Product of random numbers\n",
        "\n",
        "import random\n",
        "def main():\n",
        "    # Generate two random numbers\n",
        "    num1 = random.randint(1, 10)\n",
        "    num2 = random.randint(1, 10)\n",
        "\n",
        "    # Calculate the product\n",
        "    correct_product = num1 * num2\n",
        "\n",
        "    # Prompt the user to enter the product\n",
        "    user_answer = int(input(f\"What is the product of {num1} and {num2}? \"))\n",
        "\n",
        "    # Check if the user's answer is correct\n",
        "    if user_answer == correct_product:\n",
        "        print(\"Correct! Well done!\")\n",
        "    else:\n",
        "        print(f\"Incorrect. The correct answer is {correct_product}.\")\n",
        "\n",
        "# Run the program\n",
        "if __name__ == \"__main__\":\n",
        "    main()"
      ],
      "metadata": {
        "colab": {
          "base_uri": "https://localhost:8080/"
        },
        "id": "CdQA9mFuGE9G",
        "outputId": "ddda2fb5-1ccc-447c-c596-34268fb873f1"
      },
      "execution_count": null,
      "outputs": [
        {
          "output_type": "stream",
          "name": "stdout",
          "text": [
            "What is the product of 9 and 1? 9\n",
            "Correct! Well done!\n"
          ]
        }
      ]
    },
    {
      "cell_type": "code",
      "source": [
        "#Exercise 3: Squares of Even/Odd Numbers\n",
        "\n",
        "def main():\n",
        "    # Choice: Print squares of odd numbers within the range of 100 to 200\n",
        "    for num in range(100, 201):\n",
        "        if num % 2 != 0:\n",
        "            print(f\"The square of {num} is {num**2}\")\n",
        "\n",
        "# Run the program\n",
        "if __name__ == \"__main__\":\n",
        "    main()"
      ],
      "metadata": {
        "colab": {
          "base_uri": "https://localhost:8080/"
        },
        "id": "9FJCHIMkHDW8",
        "outputId": "9234ce22-ba89-4182-95ed-656cb191931e"
      },
      "execution_count": null,
      "outputs": [
        {
          "output_type": "stream",
          "name": "stdout",
          "text": [
            "The square of 101 is 10201\n",
            "The square of 103 is 10609\n",
            "The square of 105 is 11025\n",
            "The square of 107 is 11449\n",
            "The square of 109 is 11881\n",
            "The square of 111 is 12321\n",
            "The square of 113 is 12769\n",
            "The square of 115 is 13225\n",
            "The square of 117 is 13689\n",
            "The square of 119 is 14161\n",
            "The square of 121 is 14641\n",
            "The square of 123 is 15129\n",
            "The square of 125 is 15625\n",
            "The square of 127 is 16129\n",
            "The square of 129 is 16641\n",
            "The square of 131 is 17161\n",
            "The square of 133 is 17689\n",
            "The square of 135 is 18225\n",
            "The square of 137 is 18769\n",
            "The square of 139 is 19321\n",
            "The square of 141 is 19881\n",
            "The square of 143 is 20449\n",
            "The square of 145 is 21025\n",
            "The square of 147 is 21609\n",
            "The square of 149 is 22201\n",
            "The square of 151 is 22801\n",
            "The square of 153 is 23409\n",
            "The square of 155 is 24025\n",
            "The square of 157 is 24649\n",
            "The square of 159 is 25281\n",
            "The square of 161 is 25921\n",
            "The square of 163 is 26569\n",
            "The square of 165 is 27225\n",
            "The square of 167 is 27889\n",
            "The square of 169 is 28561\n",
            "The square of 171 is 29241\n",
            "The square of 173 is 29929\n",
            "The square of 175 is 30625\n",
            "The square of 177 is 31329\n",
            "The square of 179 is 32041\n",
            "The square of 181 is 32761\n",
            "The square of 183 is 33489\n",
            "The square of 185 is 34225\n",
            "The square of 187 is 34969\n",
            "The square of 189 is 35721\n",
            "The square of 191 is 36481\n",
            "The square of 193 is 37249\n",
            "The square of 195 is 38025\n",
            "The square of 197 is 38809\n",
            "The square of 199 is 39601\n"
          ]
        }
      ]
    },
    {
      "cell_type": "code",
      "source": [
        "#Exercise 4: Word Counter\n",
        "\n",
        "from collections import Counter\n",
        "import re\n",
        "\n",
        "def word_counter(text):\n",
        "    # Normalize the text to lowercase and split it into words\n",
        "    words = re.findall(r'\\b\\w+\\b', text.lower())\n",
        "\n",
        "    # Count the occurrences of each word\n",
        "    word_counts = Counter(words)\n",
        "\n",
        "    # Print the word counts\n",
        "    for word, count in word_counts.items():\n",
        "        print(f\"'{word}': {count}\")\n",
        "\n",
        "# input text\n",
        "input_text = input(\"Type a sentance\")\n",
        "\n",
        "# Run the word counter\n",
        "word_counter(input_text)"
      ],
      "metadata": {
        "colab": {
          "base_uri": "https://localhost:8080/"
        },
        "id": "WbNCavYhItPX",
        "outputId": "c4bdc2be-4294-43c6-af8e-a8f5ccb4b50b"
      },
      "execution_count": null,
      "outputs": [
        {
          "output_type": "stream",
          "name": "stdout",
          "text": [
            "Type a sentance\"This is a sample text. This text will be used to demonstrate the word counter.\"\n",
            "'this': 2\n",
            "'is': 1\n",
            "'a': 1\n",
            "'sample': 1\n",
            "'text': 2\n",
            "'will': 1\n",
            "'be': 1\n",
            "'used': 1\n",
            "'to': 1\n",
            "'demonstrate': 1\n",
            "'the': 1\n",
            "'word': 1\n",
            "'counter': 1\n"
          ]
        }
      ]
    },
    {
      "cell_type": "code",
      "source": [
        "# Exercise 5:\n",
        "\n",
        "def is_palindrome(s):\n",
        "    # Normalize the string by removing spaces, punctuation, and converting to lowercase\n",
        "    normalized_str = ''.join(char.lower() for char in s if char.isalnum())\n",
        "\n",
        "    # Check if the normalized string equals its reverse\n",
        "    return normalized_str == normalized_str[::-1]\n",
        "\n",
        "# usage:\n",
        "input_str = input(\"Enter a string (input): \")\n",
        "result = is_palindrome(input_str)\n",
        "print(f\"Output: {is_palindrome(input_str)}\")"
      ],
      "metadata": {
        "colab": {
          "base_uri": "https://localhost:8080/"
        },
        "id": "qqnq37uTJGL6",
        "outputId": "2e81020a-ec4c-44d3-d253-381f47769041"
      },
      "execution_count": null,
      "outputs": [
        {
          "output_type": "stream",
          "name": "stdout",
          "text": [
            "Enter a string (input): Race car\n",
            "Output: True\n"
          ]
        }
      ]
    },
    {
      "cell_type": "code",
      "source": [],
      "metadata": {
        "id": "CBMGNZYOQjjx"
      },
      "execution_count": null,
      "outputs": []
    }
  ]
}